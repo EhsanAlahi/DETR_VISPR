{
 "cells": [
  {
   "cell_type": "markdown",
   "metadata": {},
   "source": [
    "## Modify vpa_coco dataset to fit COCO_API"
   ]
  },
  {
   "cell_type": "markdown",
   "metadata": {},
   "source": [
    "The annotated vpa dataset is formatted on a per-image basis while COCO API requires instance-level annotation (each object in every image is stored as a data entry). Thus we need to reformat vpa_coco to train DETR properly."
   ]
  },
  {
   "cell_type": "code",
   "execution_count": 22,
   "metadata": {},
   "outputs": [
    {
     "ename": "ModuleNotFoundError",
     "evalue": "No module named 'pycocotools'",
     "output_type": "error",
     "traceback": [
      "\u001b[1;31m---------------------------------------------------------------------------\u001b[0m",
      "\u001b[1;31mModuleNotFoundError\u001b[0m                       Traceback (most recent call last)",
      "\u001b[1;32m<ipython-input-22-74ffecdc17c5>\u001b[0m in \u001b[0;36m<module>\u001b[1;34m\u001b[0m\n\u001b[0;32m      1\u001b[0m \u001b[0mget_ipython\u001b[0m\u001b[1;33m(\u001b[0m\u001b[1;33m)\u001b[0m\u001b[1;33m.\u001b[0m\u001b[0mrun_line_magic\u001b[0m\u001b[1;33m(\u001b[0m\u001b[1;34m'matplotlib'\u001b[0m\u001b[1;33m,\u001b[0m \u001b[1;34m'inline'\u001b[0m\u001b[1;33m)\u001b[0m\u001b[1;33m\u001b[0m\u001b[1;33m\u001b[0m\u001b[0m\n\u001b[1;32m----> 2\u001b[1;33m \u001b[1;32mfrom\u001b[0m \u001b[0mpycocotools\u001b[0m\u001b[1;33m.\u001b[0m\u001b[0mcoco\u001b[0m \u001b[1;32mimport\u001b[0m \u001b[0mCOCO\u001b[0m\u001b[1;33m\u001b[0m\u001b[1;33m\u001b[0m\u001b[0m\n\u001b[0m\u001b[0;32m      3\u001b[0m \u001b[1;31m#import pycocotools.mask as maskUtils\u001b[0m\u001b[1;33m\u001b[0m\u001b[1;33m\u001b[0m\u001b[1;33m\u001b[0m\u001b[0m\n\u001b[0;32m      4\u001b[0m \u001b[1;32mimport\u001b[0m \u001b[0mnumpy\u001b[0m \u001b[1;32mas\u001b[0m \u001b[0mnp\u001b[0m\u001b[1;33m\u001b[0m\u001b[1;33m\u001b[0m\u001b[0m\n\u001b[0;32m      5\u001b[0m \u001b[1;32mimport\u001b[0m \u001b[0mjson\u001b[0m\u001b[1;33m\u001b[0m\u001b[1;33m\u001b[0m\u001b[0m\n",
      "\u001b[1;31mModuleNotFoundError\u001b[0m: No module named 'pycocotools'"
     ]
    }
   ],
   "source": [
    "%matplotlib inline\n",
    "from pycocotools.coco import COCO\n",
    "import pycocotools.mask as maskUtils\n",
    "import numpy as np\n",
    "import json"
   ]
  },
  {
   "cell_type": "code",
   "execution_count": 3,
   "metadata": {},
   "outputs": [],
   "source": [
    "import json"
   ]
  },
  {
   "cell_type": "code",
   "execution_count": 7,
   "metadata": {},
   "outputs": [],
   "source": [
    "dataDir='../../vpa_coco/annotations'\n",
    "annFile='{}/val2017.json'.format(dataDir)\n",
    "new_name = '{}/val2017_new.json'.format(dataDir)\n",
    "annFile = json.load(open('val2017.json'))"
   ]
  },
  {
   "cell_type": "code",
   "execution_count": 15,
   "metadata": {
    "scrolled": true
   },
   "outputs": [
    {
     "name": "stdout",
     "output_type": "stream",
     "text": [
      "stats keys:  dict_keys(['attr_id_to_n_inst', 'present_attr', 'attr_id_to_n_img', 'n_attr', 'n_images']) \n",
      "\n",
      "[{'id': 1, 'name': 'a105_face_all'}, {'id': 2, 'name': 'a106_address_current_all'}, {'id': 3, 'name': 'a107_address_home_all'}, {'id': 4, 'name': 'a108_license_plate_all'}, {'id': 5, 'name': 'a109_person_body'}, {'id': 6, 'name': 'a110_nudity_all'}, {'id': 7, 'name': 'a111_name_all'}, {'id': 8, 'name': 'a18_ethnic_clothing'}, {'id': 9, 'name': 'a24_birth_date'}, {'id': 10, 'name': 'a26_handwriting'}, {'id': 11, 'name': 'a29_ausweis'}, {'id': 12, 'name': 'a30_credit_card'}, {'id': 13, 'name': 'a31_passport'}, {'id': 14, 'name': 'a32_drivers_license'}, {'id': 15, 'name': 'a33_student_id'}, {'id': 16, 'name': 'a35_mail'}, {'id': 17, 'name': 'a37_receipt'}, {'id': 18, 'name': 'a38_ticket'}, {'id': 19, 'name': 'a39_disability_physical'}, {'id': 20, 'name': 'a43_medicine'}, {'id': 21, 'name': 'a49_phone'}, {'id': 22, 'name': 'a70_education_history'}, {'id': 23, 'name': 'a73_landmark'}, {'id': 24, 'name': 'a7_fingerprint'}, {'id': 25, 'name': 'a82_date_time'}, {'id': 26, 'name': 'a85_username'}, {'id': 27, 'name': 'a8_signature'}, {'id': 28, 'name': 'a90_email'}]\n",
      "{'a105_face_all': 1, 'a106_address_current_all': 2, 'a107_address_home_all': 3, 'a108_license_plate_all': 4, 'a109_person_body': 5, 'a110_nudity_all': 6, 'a111_name_all': 7, 'a18_ethnic_clothing': 8, 'a24_birth_date': 9, 'a26_handwriting': 10, 'a29_ausweis': 11, 'a30_credit_card': 12, 'a31_passport': 13, 'a32_drivers_license': 14, 'a33_student_id': 15, 'a35_mail': 16, 'a37_receipt': 17, 'a38_ticket': 18, 'a39_disability_physical': 19, 'a43_medicine': 20, 'a49_phone': 21, 'a70_education_history': 22, 'a73_landmark': 23, 'a7_fingerprint': 24, 'a82_date_time': 25, 'a85_username': 26, 'a8_signature': 27, 'a90_email': 28}\n",
      "dict_keys(['image_path', 'image_width', 'image_id', 'image_height', 'attributes']) \n",
      "\n",
      "dict_keys(['segmentation', 'area', 'iscrowd', 'instance_id', 'attr_id', 'bbox', 'polygons']) \n",
      "\n",
      "a109_person_body \n",
      "\n",
      "0 \n",
      "\n"
     ]
    }
   ],
   "source": [
    "st = annFile['stats']\n",
    "print('stats keys: ', st.keys(), '\\n')\n",
    "pr = st['present_attr']\n",
    "attr_id = 1\n",
    "categories = []\n",
    "attr_to_id = {}\n",
    "for attr in pr:\n",
    "    attr_to_id[attr] = attr_id\n",
    "    categories.append({'id': attr_id, 'name': attr})\n",
    "    attr_id += 1\n",
    "print(categories)\n",
    "print(attr_to_id)\n",
    "annotations = annFile['annotations']\n",
    "k = list(annotations.keys())\n",
    "ann = annotations[k[0]]\n",
    "print(ann.keys(), '\\n')\n",
    "\n",
    "a = ann['attributes'][0]\n",
    "print(a.keys(), '\\n')\n",
    "print(a['attr_id'], '\\n')\n",
    "print(a['instance_id'], '\\n')"
   ]
  },
  {
   "cell_type": "code",
   "execution_count": 17,
   "metadata": {},
   "outputs": [],
   "source": [
    "def save_new(annFile, new_name):\n",
    "    ca = annFile['created_at']\n",
    "    st = annFile['stats']\n",
    "    annotations = annFile['annotations']\n",
    "\n",
    "    id_count = 0\n",
    "    new_annotations = []\n",
    "    images = []\n",
    "    for k, v in annotations.items():\n",
    "        img_id = k[5:]\n",
    "        if v['image_path'][-4] == '.':\n",
    "            img_path = k + v['image_path'][-4:]\n",
    "#             print(img_path)\n",
    "        else:\n",
    "            print('error')\n",
    "            break\n",
    "#         input('enter')\n",
    "        img = {'id': int(img_id),\n",
    "               'file_name': img_path,\n",
    "               'height': v['image_height'], \n",
    "               'width': v['image_width']}\n",
    "        images.append(img)\n",
    "        \n",
    "        for inst in v['attributes']:\n",
    "            inst_anno = {'segmentation': inst['polygons'],\n",
    "                         'area': inst['area'],\n",
    "                         'iscrowd': inst['iscrowd'],\n",
    "                         'image_id': int(img_id),\n",
    "                         'bbox': inst['bbox'],\n",
    "                         'category_id': attr_to_id[inst['attr_id']],\n",
    "                         'id': id_count}\n",
    "            id_count += 1\n",
    "            new_annotations.append(inst_anno)\n",
    "    print(len(new_annotations))\n",
    "\n",
    "    new_annFile = {'images': images, 'categories':categories, 'annotations':new_annotations}\n",
    "    with open(new_name, \"w\") as f:\n",
    "        json.dump(new_annFile, f)"
   ]
  },
  {
   "cell_type": "code",
   "execution_count": 7,
   "metadata": {},
   "outputs": [
    {
     "name": "stdout",
     "output_type": "stream",
     "text": [
      "21489\n",
      "9710\n",
      "17647\n"
     ]
    }
   ],
   "source": [
    "for name in ['train', 'val', 'test']:\n",
    "    dataDir='../../vpa_coco/annotations'\n",
    "    annFile='{}/{}2017.json'.format(dataDir, name)\n",
    "    new_name = '{}/{}2017_new.json'.format(dataDir, name)\n",
    "    annFile = json.load(open(annFile))\n",
    "    save_new(annFile, new_name)"
   ]
  },
  {
   "cell_type": "markdown",
   "metadata": {},
   "source": [
    "### Load our modified vpa_coco to check"
   ]
  },
  {
   "cell_type": "code",
   "execution_count": 21,
   "metadata": {},
   "outputs": [
    {
     "ename": "NameError",
     "evalue": "name 'COCO' is not defined",
     "output_type": "error",
     "traceback": [
      "\u001b[1;31m---------------------------------------------------------------------------\u001b[0m",
      "\u001b[1;31mNameError\u001b[0m                                 Traceback (most recent call last)",
      "\u001b[1;32m<ipython-input-21-e53892e67223>\u001b[0m in \u001b[0;36m<module>\u001b[1;34m\u001b[0m\n\u001b[0;32m      6\u001b[0m \u001b[1;31m# print('images keys: ', img.keys(), '\\n')\u001b[0m\u001b[1;33m\u001b[0m\u001b[1;33m\u001b[0m\u001b[1;33m\u001b[0m\u001b[0m\n\u001b[0;32m      7\u001b[0m \u001b[1;31m# print(img)\u001b[0m\u001b[1;33m\u001b[0m\u001b[1;33m\u001b[0m\u001b[1;33m\u001b[0m\u001b[0m\n\u001b[1;32m----> 8\u001b[1;33m \u001b[0mcoco\u001b[0m \u001b[1;33m=\u001b[0m \u001b[0mCOCO\u001b[0m\u001b[1;33m(\u001b[0m\u001b[0mannFile\u001b[0m\u001b[1;33m)\u001b[0m\u001b[1;33m\u001b[0m\u001b[1;33m\u001b[0m\u001b[0m\n\u001b[0m",
      "\u001b[1;31mNameError\u001b[0m: name 'COCO' is not defined"
     ]
    }
   ],
   "source": [
    "dataDir='../../vpa_coco/annotations'\n",
    "annFile='{}/train2017_new.json'.format(dataDir)\n",
    "# annFile = json.load(open(annFile))\n",
    "# images = annFile['images']\n",
    "# img = images[1]\n",
    "# print('images keys: ', img.keys(), '\\n')\n",
    "# print(img)\n",
    "coco = COCO(annFile)"
   ]
  },
  {
   "cell_type": "code",
   "execution_count": 70,
   "metadata": {},
   "outputs": [
    {
     "name": "stdout",
     "output_type": "stream",
     "text": [
      "3873\n",
      "2017_10001018.jpg\n"
     ]
    }
   ],
   "source": [
    "k = list(sorted(coco.imgs.keys()))\n",
    "print(len(k))\n",
    "img_id = k[0]\n",
    "path = coco.loadImgs(img_id)[0]['file_name']\n",
    "print(path)"
   ]
  },
  {
   "cell_type": "markdown",
   "metadata": {},
   "source": [
    "### COCO annotation format"
   ]
  },
  {
   "cell_type": "code",
   "execution_count": 2,
   "metadata": {},
   "outputs": [
    {
     "name": "stdout",
     "output_type": "stream",
     "text": [
      "<class 'dict'>\n",
      "dict_keys(['info', 'licenses', 'images', 'annotations', 'categories'])\n"
     ]
    }
   ],
   "source": [
    "coco_annFile='../../annotations/instances_train2017.json'\n",
    "coco_annFile = json.load(open(coco_annFile))\n",
    "print(type(coco_annFile))\n",
    "print(coco_annFile.keys())"
   ]
  },
  {
   "cell_type": "markdown",
   "metadata": {},
   "source": [
    "### Annotations/Category/Images keys"
   ]
  },
  {
   "cell_type": "code",
   "execution_count": 3,
   "metadata": {},
   "outputs": [
    {
     "name": "stdout",
     "output_type": "stream",
     "text": [
      "category keys:  dict_keys(['supercategory', 'id', 'name']) \n",
      "\n",
      "annotations keys:  dict_keys(['segmentation', 'area', 'iscrowd', 'image_id', 'bbox', 'category_id', 'id'])\n",
      "200365\n",
      "509 \n",
      "\n",
      "images keys:  dict_keys(['license', 'file_name', 'coco_url', 'height', 'width', 'date_captured', 'flickr_url', 'id']) \n",
      "\n",
      "{'license': 4, 'file_name': '000000522418.jpg', 'coco_url': 'http://images.cocodataset.org/train2017/000000522418.jpg', 'height': 480, 'width': 640, 'date_captured': '2013-11-14 11:38:44', 'flickr_url': 'http://farm1.staticflickr.com/1/127244861_ab0c0381e7_z.jpg', 'id': 522418}\n"
     ]
    }
   ],
   "source": [
    "annotations = coco_annFile['annotations']\n",
    "cate = coco_annFile['categories']\n",
    "images = coco_annFile['images']\n",
    "\n",
    "cate = cate[1]\n",
    "print('category keys: ', cate.keys(), '\\n')\n",
    "\n",
    "ann = annotations[1]\n",
    "print('annotations keys: ', ann.keys())\n",
    "print(ann['image_id'])\n",
    "print(ann['id'], '\\n')\n",
    "\n",
    "\n",
    "img = images[1]\n",
    "print('images keys: ', img.keys(), '\\n')\n",
    "print(img)"
   ]
  },
  {
   "cell_type": "code",
   "execution_count": 49,
   "metadata": {},
   "outputs": [
    {
     "name": "stdout",
     "output_type": "stream",
     "text": [
      "loading annotations into memory...\n",
      "Done (t=16.82s)\n",
      "creating index...\n",
      "index created!\n"
     ]
    }
   ],
   "source": [
    "annFile='../../annotations/instances_train2017.json'\n",
    "coco = COCO(annFile)"
   ]
  },
  {
   "cell_type": "code",
   "execution_count": 56,
   "metadata": {},
   "outputs": [
    {
     "name": "stdout",
     "output_type": "stream",
     "text": [
      "000000048795.jpg\n"
     ]
    }
   ],
   "source": [
    "k = list(sorted(coco.imgs.keys()))\n",
    "img_id = k[10000]\n",
    "path = coco.loadImgs(img_id)[0]['file_name']\n",
    "print(path)"
   ]
  },
  {
   "cell_type": "code",
   "execution_count": null,
   "metadata": {},
   "outputs": [],
   "source": []
  }
 ],
 "metadata": {
  "kernelspec": {
   "display_name": "Python 3",
   "language": "python",
   "name": "python3"
  },
  "language_info": {
   "codemirror_mode": {
    "name": "ipython",
    "version": 3
   },
   "file_extension": ".py",
   "mimetype": "text/x-python",
   "name": "python",
   "nbconvert_exporter": "python",
   "pygments_lexer": "ipython3",
   "version": "3.7.6"
  }
 },
 "nbformat": 4,
 "nbformat_minor": 4
}
